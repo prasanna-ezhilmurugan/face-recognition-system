{
 "cells": [
  {
   "cell_type": "markdown",
   "metadata": {},
   "source": [
    "# Face-Recognition using openCV & face_recognition"
   ]
  },
  {
   "cell_type": "markdown",
   "metadata": {},
   "source": [
    "### Importing Libraries "
   ]
  },
  {
   "cell_type": "code",
   "execution_count": 15,
   "metadata": {},
   "outputs": [],
   "source": [
    "import cv2\n",
    "import numpy as np\n",
    "import face_recognition as fr"
   ]
  },
  {
   "cell_type": "markdown",
   "metadata": {},
   "source": [
    "### Using openCV to access cam"
   ]
  },
  {
   "cell_type": "code",
   "execution_count": 16,
   "metadata": {},
   "outputs": [],
   "source": [
    "video_capture = cv2.VideoCapture(0)"
   ]
  },
  {
   "cell_type": "markdown",
   "metadata": {},
   "source": [
    "### Loading Image & Encoding "
   ]
  },
  {
   "cell_type": "code",
   "execution_count": 17,
   "metadata": {},
   "outputs": [],
   "source": [
    "image = fr.load_image_file('./Dr.Rajarajeswari.jpg')"
   ]
  },
  {
   "cell_type": "code",
   "execution_count": 18,
   "metadata": {},
   "outputs": [],
   "source": [
    "image_face_encoding = fr.face_encodings(image)[0]"
   ]
  },
  {
   "cell_type": "code",
   "execution_count": 19,
   "metadata": {},
   "outputs": [],
   "source": [
    "known_face_encoding = [image_face_encoding]"
   ]
  },
  {
   "cell_type": "code",
   "execution_count": 20,
   "metadata": {},
   "outputs": [],
   "source": [
    "know_face_names = [\"Dr.Rajarajeswari\"]"
   ]
  },
  {
   "cell_type": "markdown",
   "metadata": {},
   "source": [
    "### Recognize Faces using face_recognition"
   ]
  },
  {
   "cell_type": "code",
   "execution_count": 21,
   "metadata": {},
   "outputs": [],
   "source": [
    "while True:\n",
    "    ret, frame = video_capture.read()\n",
    "    rgb_frame = frame[:,:,::-1]\n",
    "    rgb_frame = np.ascontiguousarray(rgb_frame)\n",
    "    \n",
    "    fc_locations = fr.face_locations(rgb_frame)\n",
    "    fc_encodings = fr.face_encodings(rgb_frame, fc_locations)\n",
    "\n",
    "    for (top, right, bottom, left), face_encoding in zip(fc_locations,  fc_encodings):\n",
    "        #compare_faces compare the face encoding of the captured face and stored one\n",
    "        matches = fr.compare_faces(known_face_encoding, face_encoding)\n",
    "\n",
    "        #defaulting the name of the person to be unknown\n",
    "        name = \"unknown\"\n",
    "\n",
    "        #ignoring objects distant based on the distance from the screen\n",
    "        fc_distances = fr.face_distance(known_face_encoding, face_encoding)\n",
    "        match_index = np.argmin(fc_distances)\n",
    "\n",
    "        #matching live captured face encoding with the stored faces encoding\n",
    "        if matches[match_index]:\n",
    "            #renaming the unknown to person's name is person is identified\n",
    "            name = know_face_names[match_index]\n",
    "\n",
    "        #getting a color filled rectangle with name of the person at the bottom of the face recognized \n",
    "        cv2.rectangle(frame, (left, top), (right, bottom), (0,0,255), 2)\n",
    "        cv2.rectangle(frame, (left, bottom-35), (right, bottom), (0,0,255), cv2.FILLED)\n",
    "        #setting fonts\n",
    "        font = cv2.FONT_HERSHEY_SIMPLEX\n",
    "\n",
    "        #drawing names around the recognized or unknown faces and naming\n",
    "        cv2.putText(frame, name, (left +6, bottom -6), font, 1.0 ,(255,255,255), 1)\n",
    "    \n",
    "    #displaying the frame\n",
    "    cv2.imshow(\"face recognition system\", frame)\n",
    "\n",
    "    #displaying the frame continously untill q is pressed\n",
    "    if cv2.waitKey(1) & 0xFF ==ord('q'):\n",
    "        break\n",
    "\n",
    "#when everything is done release the capture\n",
    "video_capture.release()\n",
    "#closes the all windows \n",
    "cv2.destroyAllWindows()\n"
   ]
  }
 ],
 "metadata": {
  "kernelspec": {
   "display_name": "Python 3",
   "language": "python",
   "name": "python3"
  },
  "language_info": {
   "codemirror_mode": {
    "name": "ipython",
    "version": 3
   },
   "file_extension": ".py",
   "mimetype": "text/x-python",
   "name": "python",
   "nbconvert_exporter": "python",
   "pygments_lexer": "ipython3",
   "version": "3.12.0"
  }
 },
 "nbformat": 4,
 "nbformat_minor": 2
}
